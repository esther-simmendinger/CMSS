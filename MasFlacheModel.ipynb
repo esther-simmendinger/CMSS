{
 "cells": [
  {
   "cell_type": "markdown",
   "id": "eb947881-c811-4691-9cbe-48d1a350d19d",
   "metadata": {},
   "source": [
    "# Agent-Based Model using Mesa\n",
    "Coding bi-polarization model from Mäs & Flache (2013)"
   ]
  },
  {
   "cell_type": "code",
   "execution_count": 1,
   "id": "b663ad19-61df-4534-a8f0-94a730ce21ac",
   "metadata": {
    "collapsed": true,
    "jupyter": {
     "outputs_hidden": true
    },
    "tags": []
   },
   "outputs": [
    {
     "name": "stdout",
     "output_type": "stream",
     "text": [
      "Collecting mesa\n",
      "  Downloading Mesa-1.1.1-py3-none-any.whl (1.8 MB)\n",
      "Requirement already satisfied: tornado in c:\\users\\esthe\\anaconda3\\lib\\site-packages (from mesa) (6.1)\n",
      "Requirement already satisfied: pandas in c:\\users\\esthe\\anaconda3\\lib\\site-packages (from mesa) (1.4.2)\n",
      "Requirement already satisfied: cookiecutter in c:\\users\\esthe\\anaconda3\\lib\\site-packages (from mesa) (1.7.3)\n",
      "Requirement already satisfied: networkx in c:\\users\\esthe\\anaconda3\\lib\\site-packages (from mesa) (2.7.1)\n",
      "Requirement already satisfied: numpy in c:\\users\\esthe\\anaconda3\\lib\\site-packages (from mesa) (1.21.5)\n",
      "Requirement already satisfied: tqdm in c:\\users\\esthe\\anaconda3\\lib\\site-packages (from mesa) (4.64.0)\n",
      "Requirement already satisfied: click in c:\\users\\esthe\\anaconda3\\lib\\site-packages (from mesa) (8.0.4)\n",
      "Requirement already satisfied: colorama in c:\\users\\esthe\\anaconda3\\lib\\site-packages (from click->mesa) (0.4.4)\n",
      "Requirement already satisfied: python-slugify>=4.0.0 in c:\\users\\esthe\\anaconda3\\lib\\site-packages (from cookiecutter->mesa) (5.0.2)\n",
      "Requirement already satisfied: Jinja2<4.0.0,>=2.7 in c:\\users\\esthe\\anaconda3\\lib\\site-packages (from cookiecutter->mesa) (2.11.3)\n",
      "Requirement already satisfied: poyo>=0.5.0 in c:\\users\\esthe\\anaconda3\\lib\\site-packages (from cookiecutter->mesa) (0.5.0)\n",
      "Requirement already satisfied: requests>=2.23.0 in c:\\users\\esthe\\anaconda3\\lib\\site-packages (from cookiecutter->mesa) (2.27.1)\n",
      "Requirement already satisfied: six>=1.10 in c:\\users\\esthe\\anaconda3\\lib\\site-packages (from cookiecutter->mesa) (1.16.0)\n",
      "Requirement already satisfied: jinja2-time>=0.2.0 in c:\\users\\esthe\\anaconda3\\lib\\site-packages (from cookiecutter->mesa) (0.2.0)\n",
      "Requirement already satisfied: binaryornot>=0.4.4 in c:\\users\\esthe\\anaconda3\\lib\\site-packages (from cookiecutter->mesa) (0.4.4)\n",
      "Requirement already satisfied: chardet>=3.0.2 in c:\\users\\esthe\\anaconda3\\lib\\site-packages (from binaryornot>=0.4.4->cookiecutter->mesa) (4.0.0)\n",
      "Requirement already satisfied: MarkupSafe>=0.23 in c:\\users\\esthe\\anaconda3\\lib\\site-packages (from Jinja2<4.0.0,>=2.7->cookiecutter->mesa) (2.0.1)\n",
      "Requirement already satisfied: arrow in c:\\users\\esthe\\anaconda3\\lib\\site-packages (from jinja2-time>=0.2.0->cookiecutter->mesa) (1.2.2)\n",
      "Requirement already satisfied: text-unidecode>=1.3 in c:\\users\\esthe\\anaconda3\\lib\\site-packages (from python-slugify>=4.0.0->cookiecutter->mesa) (1.3)\n",
      "Requirement already satisfied: charset-normalizer~=2.0.0 in c:\\users\\esthe\\anaconda3\\lib\\site-packages (from requests>=2.23.0->cookiecutter->mesa) (2.0.4)\n",
      "Requirement already satisfied: idna<4,>=2.5 in c:\\users\\esthe\\anaconda3\\lib\\site-packages (from requests>=2.23.0->cookiecutter->mesa) (3.3)\n",
      "Requirement already satisfied: certifi>=2017.4.17 in c:\\users\\esthe\\anaconda3\\lib\\site-packages (from requests>=2.23.0->cookiecutter->mesa) (2022.12.7)\n",
      "Requirement already satisfied: urllib3<1.27,>=1.21.1 in c:\\users\\esthe\\anaconda3\\lib\\site-packages (from requests>=2.23.0->cookiecutter->mesa) (1.26.9)\n",
      "Requirement already satisfied: python-dateutil>=2.7.0 in c:\\users\\esthe\\anaconda3\\lib\\site-packages (from arrow->jinja2-time>=0.2.0->cookiecutter->mesa) (2.8.2)\n",
      "Requirement already satisfied: pytz>=2020.1 in c:\\users\\esthe\\anaconda3\\lib\\site-packages (from pandas->mesa) (2021.3)\n",
      "Installing collected packages: mesa\n",
      "Successfully installed mesa-1.1.1\n"
     ]
    }
   ],
   "source": [
    "!pip install mesa"
   ]
  },
  {
   "cell_type": "code",
   "execution_count": 1,
   "id": "99a9d57d-14e1-4c87-94ee-80f25615c2ee",
   "metadata": {},
   "outputs": [],
   "source": [
    "import mesa\n",
    "import pandas as pd\n",
    "import random\n",
    "import statistics\n",
    "from matplotlib import pyplot as plt"
   ]
  },
  {
   "cell_type": "markdown",
   "id": "1f5c1181-0775-4ea9-ad9c-893bc03b75c2",
   "metadata": {},
   "source": [
    "ABM Code"
   ]
  },
  {
   "cell_type": "markdown",
   "id": "2a904951-3470-43b9-b595-cd080c7b88a6",
   "metadata": {},
   "source": [
    "This model replicates the Mäs and Flache (2013) model on opinion bipolarization. \n",
    "We initiate each agent with an opinion of zero (same number of pro and con arguments in their relevant argument vector)\n",
    "It also only chooses one random agent per step, as only one pairwise interaction should take place per timestep t."
   ]
  },
  {
   "cell_type": "code",
   "execution_count": 277,
   "id": "870e158c-221d-43a7-abeb-4e9b5d369454",
   "metadata": {},
   "outputs": [],
   "source": [
    "# in this first version, all agents start with an opinion of value 0"
   ]
  },
  {
   "cell_type": "code",
   "execution_count": 180,
   "id": "3bce87a5-982a-4bb5-89f8-3dada92edaa2",
   "metadata": {},
   "outputs": [],
   "source": [
    "def compute_bipol(model):\n",
    "    N = model.num_agents\n",
    "    agent_opinions = [agent.opinion for agent in model.schedule.agents]\n",
    "    \n",
    "    std_opinion = statistics.stdev(agent_opinions)\n",
    "    return std_opinion\n",
    "\n",
    "def getOpinions(model):\n",
    "    agent_opinions = [agent.opinion for agent in model.schedule.agents]\n",
    "    return agent_opinions\n",
    "    \n",
    "class OpinionAgent(mesa.Agent):\n",
    "    \"\"\"An agent with S arguments, an opinion and two interaction processes.\"\"\"\n",
    "\n",
    "    def __init__(self, unique_id, model):\n",
    "        super().__init__(unique_id, model)\n",
    "        arg_array_pro = [] # create argument vector with all P and C elements and their value of +1 and -1 \n",
    "        arg_array_con = []\n",
    "        for i in range(1,model.proarg+1):\n",
    "            arg_array_pro.append([i,1])\n",
    "            arg_array_con.append([i+model.proarg,-1])\n",
    "        arg_array = \n",
    "        r_array_pro = [] # add 0 or 1 to each argument in the argument array, to initiate a relevant-argument vector for each agent i\n",
    "        r_array_con = []\n",
    "        for i in range(len(arg_array_pro)):\n",
    "            if i< (model.relevantArgs/2):\n",
    "                r_array_pro.append(1)\n",
    "                r_array_con.append(1)\n",
    "            else:\n",
    "                r_array_pro.append(0)\n",
    "                r_array_con.append(0)\n",
    "        random.shuffle(r_array_pro)\n",
    "        random.shuffle(r_array_con)\n",
    "        \n",
    "        \n",
    "        for i in range(len(r_array_pro)):\n",
    "            arg_array_pro[i].append(r_array_pro[i])\n",
    "            arg_array_con[i].append(r_array_con[i])\n",
    "        \n",
    "        arg_array = arg_array_pro + arg_array_con\n",
    "        \n",
    "        \n",
    "        opinion_array = []\n",
    "        for arg in arg_array:\n",
    "            opinion_array.append([arg[0]]) # keep argument id in the opinion array\n",
    "        for i,arg in enumerate(arg_array):\n",
    "            opinion_array[i].append(arg[1]*arg[2])\n",
    "           \n",
    "        opinion_vector = [arg for arg in opinion_array if arg[1] != 0]  # make shortened opinion vector, only keeping relevant opinions\n",
    "        opinion_values_vector = [arg[1] for arg in opinion_vector]\n",
    "        opinion = (sum(opinion_values_vector))/model.relevantArgs # this is the agent's opinion o(i,t) that is between -1 and 1\n",
    "\n",
    "        for i in range(len(opinion_vector)):\n",
    "            opinion_vector[i].append(i+1)  # add the recency variable; we initialize this with values 1 through S\n",
    "        self.opinion = opinion\n",
    "        self.opinion_vector = opinion_vector\n",
    "        \n",
    "    def interaction(self): # first part of interaction is partner selection phase\n",
    "     \n",
    "        # first stage is partner selection\n",
    "        sim_lst = [] # list of relative similarity of chosen agent i with each of the other agents created\n",
    "        agent_lst = [agent for agent in model.schedule.agents if agent != self]\n",
    "        print(len(agent_lst))\n",
    "        for i, agent in enumerate(agent_lst):\n",
    "            sim_ij = 0.5*(2-abs(self.opinion - agent.opinion))\n",
    "            sim_lst.append(sim_ij)\n",
    "                  \n",
    "        p_lst = []\n",
    "        sum_p = sum([(sim**model.homophily) for sim in sim_lst])\n",
    "        for i, sim in enumerate(sim_lst):\n",
    "            p = (sim**model.homophily) / sum_p\n",
    "            p_lst.append(p)\n",
    "        \n",
    "        agent_j = random.choices(agent_lst, weights=p_lst, k=1)[0] # pick random interaction partner with weights equivalent to the probabilities based on homophily\n",
    "        # make sure we don't choose the same agent for the interaction\n",
    "        same_agent = False\n",
    "        if agent_j == self:\n",
    "            same_agent = True\n",
    "            while same_agent == True:\n",
    "                agent_j = random.choices(model.schedule.agents, weights=p_lst, k=1)[0]\n",
    "                if agent_j == self:\n",
    "                    same_agent = True\n",
    "                else:\n",
    "                    same_agent = False\n",
    "        \n",
    "        \n",
    "        # second stage is interaction\n",
    "        chosen_arg = self.random.choice(agent_j.opinion_vector) # the first value is the argument (either -1 or +1), while the second value indicates recency of arg for agent j, which is not interesting at this point\n",
    "        \n",
    "        # before we add this argument to agent i's argument vector, need to check if agent i already knows this argument\n",
    "        knows_arg = False\n",
    "        for i in range(len(self.opinion_vector)):\n",
    "            if self.opinion_vector[i][0] == chosen_arg[0]:\n",
    "                knows_arg = True\n",
    "                idx_arg = i\n",
    "            else:\n",
    "                pass\n",
    "            \n",
    "        # now append if agent i does not know this argument\n",
    "        if knows_arg == False:\n",
    "            chosen_arg[2] = model.relevantArgs+1\n",
    "            self.opinion_vector.append(chosen_arg) # append new argument with recency of S+1 to opinion vector of agent i\n",
    "            for i in range(len(self.opinion_vector)):\n",
    "                self.opinion_vector[i][2] = (self.opinion_vector[i][2])-1 # reduce recency of each argument by 1\n",
    "            self.opinion_vector.pop(0)\n",
    "        \n",
    "        # only update recency of arguments if agent i already knows the argument\n",
    "        if knows_arg == True:\n",
    "            arg_recency = self.opinion_vector[idx_arg][2]  \n",
    "            self.opinion_vector.pop(idx_arg)\n",
    "            chosen_arg[2] = model.relevantArgs+1\n",
    "            \n",
    "            self.opinion_vector.append(chosen_arg)            \n",
    "            for i in range(len(self.opinion_vector)): # now reduce recency of every argument with recency larger than communicated arg's recency\n",
    "                if self.opinion_vector[i][2] > arg_recency:\n",
    "                    self.opinion_vector[i][2] = (self.opinion_vector[i][2])-1\n",
    "        \n",
    "        # after updating agent i's opinion vector, we are updating their opinion\n",
    "        self.opinion_values_vector = [arg[1] for arg in self.opinion_vector]\n",
    "       \n",
    "        self.opinion = (sum(self.opinion_values_vector))/model.relevantArgs\n",
    "       \n",
    "    \n",
    "class OpinionModel(mesa.Model):\n",
    "    \"\"\"A model with some number of agents.\"\"\"\n",
    "\n",
    "    def __init__(self, N, h, P, C, r):\n",
    "        self.num_agents = N\n",
    "        self.schedule = mesa.time.RandomActivation(self)\n",
    "        self.homophily = h # specify parameter h, indicating level of homophily\n",
    "        self.proarg = P # number of Pro arguments\n",
    "        self.conarg = C # number of Con arguments\n",
    "        self.relevantArgs = r\n",
    "        self.running = True\n",
    "\n",
    "        # Create agents\n",
    "        self.agent_lst = []\n",
    "        for i in range(self.num_agents):\n",
    "            a = OpinionAgent(i, self)\n",
    "            \n",
    "            self.agent_lst.append(a)\n",
    "            self.schedule.add(a)\n",
    "\n",
    "        self.datacollector = mesa.DataCollector(\n",
    "            model_reporters={\"Bipolarization\": compute_bipol, \"Opinions\": getOpinions} #agent_reporters={\"Opinion\": \"opinion\"} )\n",
    "        )\n",
    "    def step(self):\n",
    "        chosen_agent = random.choice(self.agent_lst)\n",
    "        # after inspecting intermediate steps in the model, it seems that after this step.\n",
    "        # for some reason, the recency values get messed up, so we fix them again here\n",
    "        for i, arg in enumerate(chosen_agent.opinion_vector):\n",
    "            if arg[2] != i+1:\n",
    "                arg[2] = i+1\n",
    "        chosen_agent.interaction()\n",
    "        self.datacollector.collect(self)"
   ]
  },
  {
   "cell_type": "code",
   "execution_count": null,
   "id": "47699ab6-54db-4700-a63e-a06aa8a2dd33",
   "metadata": {},
   "outputs": [],
   "source": [
    "# the second model version is below, with opinions initiated by randomly choosing arguments for each agent"
   ]
  },
  {
   "cell_type": "code",
   "execution_count": 202,
   "id": "649a731c-0344-424e-a720-cab10ba21a11",
   "metadata": {},
   "outputs": [],
   "source": [
    "def compute_bipol(model):\n",
    "    N = model.num_agents\n",
    "    agent_opinions = [agent.opinion for agent in model.schedule.agents]\n",
    "    \n",
    "    std_opinion = statistics.stdev(agent_opinions)\n",
    "    return std_opinion\n",
    "\n",
    "def getOpinions(model):\n",
    "    agent_opinions = [agent.opinion for agent in model.schedule.agents]\n",
    "    return agent_opinions\n",
    "    \n",
    "class OpinionAgent(mesa.Agent):\n",
    "    \"\"\"An agent with S arguments, an opinion and two interaction processes.\"\"\"\n",
    "\n",
    "    def __init__(self, unique_id, model):\n",
    "        super().__init__(unique_id, model)\n",
    "        arg_array_pro = [] # create argument vector with all P and C elements and their value of +1 and -1 \n",
    "        arg_array_con = []\n",
    "        for i in range(1,model.proarg+1):\n",
    "            arg_array_pro.append([i,1])\n",
    "            arg_array_con.append([i+model.proarg,-1])\n",
    "        arg_array = arg_array_pro + arg_array_con\n",
    "        # shuffle the whole argument array\n",
    "        arg_array = random.sample(arg_array, len(arg_array))\n",
    "        # now pick S random arguments from the argument array\n",
    "        opinion_vector = random.sample(arg_array, model.relevantArgs)\n",
    "\n",
    "        opinion_values_vector = [arg[1] for arg in opinion_vector]\n",
    "        opinion = (sum(opinion_values_vector))/model.relevantArgs # this is the agent's opinion o(i,t) that is between -1 and 1\n",
    "\n",
    "        for i in range(len(opinion_vector)):\n",
    "            opinion_vector[i].append(i+1)  # add the recency variable; we initialize this with values 1 through S\n",
    "        self.opinion = opinion\n",
    "        self.opinion_vector = opinion_vector\n",
    "        \n",
    "    def interaction(self): # first part of interaction is partner selection phase\n",
    "     \n",
    "        # first stage is partner selection\n",
    "        sim_lst = [] # list of relative similarity of chosen agent i with each of the other agents created\n",
    "        agent_lst = [agent for agent in model.schedule.agents if agent != self]\n",
    "        for i, agent in enumerate(agent_lst):\n",
    "            sim_ij = 0.5*(2-abs(self.opinion - agent.opinion))\n",
    "            sim_lst.append(sim_ij)\n",
    "                  \n",
    "        p_lst = []\n",
    "        sum_p = sum([(sim**model.homophily) for sim in sim_lst])\n",
    "        for i, sim in enumerate(sim_lst):\n",
    "            p = (sim**model.homophily) / sum_p\n",
    "            p_lst.append(p)\n",
    "        \n",
    "        agent_j = random.choices(agent_lst, weights=p_lst, k=1)[0] # pick random interaction partner with weights equivalent to the probabilities based on homophily\n",
    "        # make sure we don't choose the same agent for the interaction\n",
    "        same_agent = False\n",
    "        if agent_j == self:\n",
    "            same_agent = True\n",
    "            while same_agent == True:\n",
    "                agent_j = random.choices(model.schedule.agents, weights=p_lst, k=1)[0]\n",
    "                if agent_j == self:\n",
    "                    same_agent = True\n",
    "                else:\n",
    "                    same_agent = False\n",
    "        \n",
    "        \n",
    "        # second stage is interaction\n",
    "        chosen_arg = self.random.choice(agent_j.opinion_vector) # the first value is the argument (either -1 or +1), while the second value indicates recency of arg for agent j, which is not interesting at this point\n",
    "        \n",
    "        # before we add this argument to agent i's argument vector, need to check if agent i already knows this argument\n",
    "        knows_arg = False\n",
    "        for i in range(len(self.opinion_vector)):\n",
    "            if self.opinion_vector[i][0] == chosen_arg[0]:\n",
    "                knows_arg = True\n",
    "                idx_arg = i\n",
    "            else:\n",
    "                pass\n",
    "            \n",
    "        # now append if agent i does not know this argument\n",
    "        if knows_arg == False:\n",
    "            chosen_arg[2] = model.relevantArgs+1\n",
    "            self.opinion_vector.append(chosen_arg) # append new argument with recency of S+1 to opinion vector of agent i\n",
    "            for i in range(len(self.opinion_vector)):\n",
    "                self.opinion_vector[i][2] = (self.opinion_vector[i][2])-1 # reduce recency of each argument by 1\n",
    "            self.opinion_vector.pop(0)\n",
    "        \n",
    "        # only update recency of arguments if agent i already knows the argument\n",
    "        if knows_arg == True:\n",
    "            arg_recency = self.opinion_vector[idx_arg][2]  \n",
    "            self.opinion_vector.pop(idx_arg)\n",
    "            chosen_arg[2] = model.relevantArgs+1\n",
    "            \n",
    "            self.opinion_vector.append(chosen_arg)            \n",
    "            for i in range(len(self.opinion_vector)): # now reduce recency of every argument with recency larger than communicated arg's recency\n",
    "                if self.opinion_vector[i][2] > arg_recency:\n",
    "                    self.opinion_vector[i][2] = (self.opinion_vector[i][2])-1\n",
    "        \n",
    "        # after updating agent i's opinion vector, we are updating their opinion\n",
    "        self.opinion_values_vector = [arg[1] for arg in self.opinion_vector]\n",
    "       \n",
    "        self.opinion = (sum(self.opinion_values_vector))/model.relevantArgs\n",
    "       \n",
    "    \n",
    "class OpinionModel(mesa.Model):\n",
    "    \"\"\"A model with some number of agents.\"\"\"\n",
    "\n",
    "    def __init__(self, N, h, P, C, r):\n",
    "        self.num_agents = N\n",
    "        self.schedule = mesa.time.RandomActivation(self)\n",
    "        self.homophily = h # specify parameter h, indicating level of homophily\n",
    "        self.proarg = P # number of Pro arguments\n",
    "        self.conarg = C # number of Con arguments\n",
    "        self.relevantArgs = r\n",
    "        self.running = True\n",
    "\n",
    "        # Create agents\n",
    "        self.agent_lst = []\n",
    "        for i in range(self.num_agents):\n",
    "            a = OpinionAgent(i, self)\n",
    "            self.agent_lst.append(a)\n",
    "            self.schedule.add(a)\n",
    "\n",
    "        self.datacollector = mesa.DataCollector(\n",
    "            model_reporters={\"Bipolarization\": compute_bipol, \"Opinions\": getOpinions} #agent_reporters={\"Opinion\": \"opinion\"} )\n",
    "        )\n",
    "    def step(self):\n",
    "        chosen_agent = random.choice(self.agent_lst)\n",
    "        # after inspecting intermediate steps in the model, it seems that after this step.\n",
    "        # for some reason, the recency values get messed up, so we fix them again here\n",
    "        for i, arg in enumerate(chosen_agent.opinion_vector):\n",
    "            if arg[2] != i+1:\n",
    "                arg[2] = i+1\n",
    "        chosen_agent.interaction()\n",
    "        self.datacollector.collect(self)"
   ]
  },
  {
   "cell_type": "markdown",
   "id": "12248467-e10e-4b84-babe-285d803d56bb",
   "metadata": {},
   "source": [
    "The third model version is initiated with a uniform opinion distribution. This model version is used in the paper in section 1.3.4 where a large number of simulations is run and parameter h is changed we use this third model version to run the simulation."
   ]
  },
  {
   "cell_type": "code",
   "execution_count": 252,
   "id": "0693de11-1380-47e2-9455-534e0ff0612f",
   "metadata": {},
   "outputs": [],
   "source": [
    "def compute_bipol(model):\n",
    "    N = model.num_agents\n",
    "    agent_opinions = [agent.opinion for agent in model.schedule.agents]\n",
    "    \n",
    "    std_opinion = statistics.stdev(agent_opinions)\n",
    "    return std_opinion\n",
    "\n",
    "def getOpinions(model):\n",
    "    agent_opinions = [agent.opinion for agent in model.schedule.agents]\n",
    "    return agent_opinions\n",
    "    \n",
    "class OpinionAgent(mesa.Agent):\n",
    "    \"\"\"An agent with S arguments, an opinion and two interaction processes.\"\"\"\n",
    "\n",
    "    def __init__(self, unique_id, model):\n",
    "        super().__init__(unique_id, model)\n",
    "        arg_array_pro = [] # create argument vector with all P and C elements and their value of +1 and -1 \n",
    "        arg_array_con = []\n",
    "        for i in range(1,model.proarg+1):\n",
    "            arg_array_pro.append([i,1])\n",
    "            arg_array_con.append([i+model.proarg,-1])\n",
    "        # shuffle each array, we will make random draws from these later, based on the opinion value selected\n",
    "        arg_array_pro = random.sample(arg_array_pro, len(arg_array_pro))\n",
    "        arg_array_con = random.sample(arg_array_con, len(arg_array_con))\n",
    "        # we have S+1 possible opinions to draw from\n",
    "        # to ensure uniform distribution of opinions at the start, we make random draws from this list\n",
    "        S_plus1_lst = list(range(model.relevantArgs+1))   \n",
    "        \n",
    "        # make random draw from this list\n",
    "        random_op_val = random.choice(S_plus1_lst)\n",
    "        # make random draws from pro and con argument vectors based on this number\n",
    "        # e.g., if we drew 0, we draw 0 random pro arguments and S random con arguments; and so on.\n",
    "        opinion_vector_pro = random.sample(arg_array_pro, random_op_val)\n",
    "        opinion_vector_con = random.sample(arg_array_con, (model.relevantArgs-random_op_val))  \n",
    "        opinion_vector = opinion_vector_pro + opinion_vector_con\n",
    "        \n",
    "        opinion_values_vector = [arg[1] for arg in opinion_vector]\n",
    "        opinion = (sum(opinion_values_vector))/model.relevantArgs # this is the agent's opinion o(i,t) that is between -1 and 1\n",
    "\n",
    "        for i in range(len(opinion_vector)):\n",
    "            opinion_vector[i].append(i+1)  # add the recency variable; we initialize this with values 1 through S\n",
    "        self.opinion = opinion\n",
    "        self.opinion_vector = opinion_vector\n",
    "        \n",
    "    def interaction(self): # first part of interaction is partner selection phase\n",
    "     \n",
    "        # first stage is partner selection\n",
    "        sim_lst = [] # list of relative similarity of chosen agent i with each of the other agents created\n",
    "        agent_lst = [agent for agent in model.schedule.agents if agent != self]\n",
    "        for i, agent in enumerate(agent_lst):\n",
    "            sim_ij = 0.5*(2-abs(self.opinion - agent.opinion))\n",
    "            sim_lst.append(sim_ij)\n",
    "                  \n",
    "        p_lst = []\n",
    "        sum_p = sum([(sim**model.homophily) for sim in sim_lst])\n",
    "        for i, sim in enumerate(sim_lst):\n",
    "            p = (sim**model.homophily) / sum_p\n",
    "            p_lst.append(p)\n",
    "        \n",
    "        agent_j = random.choices(agent_lst, weights=p_lst, k=1)[0] # pick random interaction partner with weights equivalent to the probabilities based on homophily\n",
    "        # make sure we don't choose the same agent for the interaction\n",
    "        same_agent = False\n",
    "        if agent_j == self:\n",
    "            same_agent = True\n",
    "            while same_agent == True:\n",
    "                agent_j = random.choices(model.schedule.agents, weights=p_lst, k=1)[0]\n",
    "                if agent_j == self:\n",
    "                    same_agent = True\n",
    "                else:\n",
    "                    same_agent = False\n",
    "        \n",
    "        \n",
    "        # second stage is interaction\n",
    "        chosen_arg = self.random.choice(agent_j.opinion_vector) # the first value is the argument (either -1 or +1), while the second value indicates recency of arg for agent j, which is not interesting at this point\n",
    "        \n",
    "        # before we add this argument to agent i's argument vector, need to check if agent i already knows this argument\n",
    "        knows_arg = False\n",
    "        for i in range(len(self.opinion_vector)):\n",
    "            if self.opinion_vector[i][0] == chosen_arg[0]:\n",
    "                knows_arg = True\n",
    "                idx_arg = i\n",
    "            else:\n",
    "                pass\n",
    "            \n",
    "        # now append if agent i does not know this argument\n",
    "        if knows_arg == False:\n",
    "            chosen_arg[2] = model.relevantArgs+1\n",
    "            self.opinion_vector.append(chosen_arg) # append new argument with recency of S+1 to opinion vector of agent i\n",
    "            for i in range(len(self.opinion_vector)):\n",
    "                self.opinion_vector[i][2] = (self.opinion_vector[i][2])-1 # reduce recency of each argument by 1\n",
    "            self.opinion_vector.pop(0)\n",
    "        \n",
    "        # only update recency of arguments if agent i already knows the argument\n",
    "        if knows_arg == True:\n",
    "            arg_recency = self.opinion_vector[idx_arg][2]  \n",
    "            self.opinion_vector.pop(idx_arg)\n",
    "            chosen_arg[2] = model.relevantArgs+1\n",
    "            \n",
    "            self.opinion_vector.append(chosen_arg)            \n",
    "            for i in range(len(self.opinion_vector)): # now reduce recency of every argument with recency larger than communicated arg's recency\n",
    "                if self.opinion_vector[i][2] > arg_recency:\n",
    "                    self.opinion_vector[i][2] = (self.opinion_vector[i][2])-1\n",
    "        \n",
    "        # after updating agent i's opinion vector, we are updating their opinion\n",
    "        self.opinion_values_vector = [arg[1] for arg in self.opinion_vector]\n",
    "       \n",
    "        self.opinion = (sum(self.opinion_values_vector))/model.relevantArgs\n",
    "       \n",
    "    \n",
    "class OpinionModel(mesa.Model):\n",
    "    \"\"\"A model with some number of agents.\"\"\"\n",
    "\n",
    "    def __init__(self, N, h, P, C, r):\n",
    "        self.num_agents = N\n",
    "        self.schedule = mesa.time.RandomActivation(self)\n",
    "        self.homophily = h # specify parameter h, indicating level of homophily\n",
    "        self.proarg = P # number of Pro arguments\n",
    "        self.conarg = C # number of Con arguments\n",
    "        self.relevantArgs = r\n",
    "        self.running = True\n",
    "\n",
    "        # Create agents\n",
    "        self.agent_lst = []\n",
    "        \n",
    "        for i in range(self.num_agents):\n",
    "            a = OpinionAgent(i, self)\n",
    "            self.agent_lst.append(a)\n",
    "            self.schedule.add(a)\n",
    "        self.datacollector = mesa.DataCollector(\n",
    "            model_reporters={\"Bipolarization\": compute_bipol, \"Opinions\": getOpinions} #agent_reporters={\"Opinion\": \"opinion\"} )\n",
    "        )\n",
    "    def step(self):\n",
    "        chosen_agent = random.choice(self.agent_lst)\n",
    "        # after inspecting intermediate steps in the model, it seems that after this step.\n",
    "        # for some reason, the recency values get messed up, so we fix them again here\n",
    "        for i, arg in enumerate(chosen_agent.opinion_vector):\n",
    "            if arg[2] != i+1:\n",
    "                arg[2] = i+1\n",
    "        chosen_agent.interaction()\n",
    "        self.datacollector.collect(self)"
   ]
  },
  {
   "cell_type": "code",
   "execution_count": null,
   "id": "7d0458a2-1861-4e7d-b40e-2a48a466dc23",
   "metadata": {},
   "outputs": [],
   "source": [
    "# conduct a trial model run with h= 9"
   ]
  },
  {
   "cell_type": "code",
   "execution_count": 256,
   "id": "d43886a1-a3fb-4c77-b4a6-d10e2e59781e",
   "metadata": {},
   "outputs": [],
   "source": [
    "model = OpinionModel(N = 100, h = 9, P = 30, C= 30, r = 10)\n",
    "for i in range(30000):\n",
    "    model.step()"
   ]
  },
  {
   "cell_type": "code",
   "execution_count": 257,
   "id": "93e0b2c2-7e64-4241-9be5-5bd83aa261af",
   "metadata": {},
   "outputs": [],
   "source": [
    "bipolarization = model.datacollector.get_model_vars_dataframe()[\"Bipolarization\"]\n",
    "opinions = model.datacollector.get_model_vars_dataframe()[\"Opinions\"]"
   ]
  },
  {
   "cell_type": "code",
   "execution_count": 258,
   "id": "812d6f0f-e8c1-43cd-96b3-07b55b6cc532",
   "metadata": {},
   "outputs": [
    {
     "data": {
      "text/plain": [
       "<AxesSubplot:>"
      ]
     },
     "execution_count": 258,
     "metadata": {},
     "output_type": "execute_result"
    },
    {
     "data": {
      "image/png": "[encoded data removed]",
      "text/plain": [
       "<Figure size 432x288 with 1 Axes>"
      ]
     },
     "metadata": {
      "needs_background": "light"
     },
     "output_type": "display_data"
    }
   ],
   "source": [
    "bipolarization.plot()"
   ]
  },
  {
   "cell_type": "code",
   "execution_count": 259,
   "id": "823ccf38-6b2e-4332-9eb5-4d01c44f3b75",
   "metadata": {},
   "outputs": [],
   "source": [
    "avg_opinion = []\n",
    "for opinion in opinions:\n",
    "    avg = sum(opinion)/len(opinion)\n",
    "    avg_opinion.append(avg)"
   ]
  },
  {
   "cell_type": "code",
   "execution_count": 260,
   "id": "9ef12156-eff1-4d22-9ef3-d36aac01cedf",
   "metadata": {},
   "outputs": [
    {
     "data": {
      "text/plain": [
       "<AxesSubplot:>"
      ]
     },
     "execution_count": 260,
     "metadata": {},
     "output_type": "execute_result"
    },
    {
     "data": {
      "image/png": "[encoded data removed]",
      "text/plain": [
       "<Figure size 432x288 with 1 Axes>"
      ]
     },
     "metadata": {
      "needs_background": "light"
     },
     "output_type": "display_data"
    }
   ],
   "source": [
    "df_opinion = pd.DataFrame(avg_opinion)\n",
    "df_opinion.plot()"
   ]
  },
  {
   "cell_type": "markdown",
   "id": "71ba9994-f130-4fbf-9ad7-ed7335c7a19c",
   "metadata": {},
   "source": [
    "Now, conduct several simulation runs for h=8 and h=0, each running 100 times"
   ]
  },
  {
   "cell_type": "code",
   "execution_count": 261,
   "id": "e453a1e3-2604-4b4c-bd9e-45b7f7987c47",
   "metadata": {},
   "outputs": [],
   "source": [
    "bipolarization_lst_high_h = []\n",
    "opinions_lst_high_h = []\n",
    "for i in range(100):\n",
    "    model = OpinionModel(N = 20, h = 8, P = 20, C= 20, r = 6)\n",
    "    for i in range(30000):\n",
    "        model.step()\n",
    "    bipolarization = model.datacollector.get_model_vars_dataframe()[\"Bipolarization\"]\n",
    "    opinions = model.datacollector.get_model_vars_dataframe()[\"Opinions\"]\n",
    "    bipolarization_lst_high_h.append(bipolarization)\n",
    "    opinions_lst_high_h.append(opinions)"
   ]
  },
  {
   "cell_type": "code",
   "execution_count": 262,
   "id": "bbf7d52e-2876-4ab7-9df8-b1903574b161",
   "metadata": {},
   "outputs": [],
   "source": [
    "bipolarization_lst_low_h = []\n",
    "opinions_lst_low_h = []\n",
    "for i in range(100):\n",
    "    model = OpinionModel(N = 20, h = 0, P = 20, C= 20, r = 6)\n",
    "    for i in range(30000):\n",
    "        model.step()\n",
    "    bipolarization = model.datacollector.get_model_vars_dataframe()[\"Bipolarization\"]\n",
    "    opinions = model.datacollector.get_model_vars_dataframe()[\"Opinions\"]\n",
    "    bipolarization_lst_low_h.append(bipolarization)\n",
    "    opinions_lst_low_h.append(opinions)"
   ]
  },
  {
   "cell_type": "code",
   "execution_count": 266,
   "id": "f67f0720-debc-4661-b020-0ba948ae0659",
   "metadata": {},
   "outputs": [
    {
     "data": {
      "text/plain": [
       "<AxesSubplot:>"
      ]
     },
     "execution_count": 266,
     "metadata": {},
     "output_type": "execute_result"
    },
    {
     "data": {
      "image/png": "[encoded data removed]",
      "text/plain": [
       "<Figure size 432x288 with 1 Axes>"
      ]
     },
     "metadata": {
      "needs_background": "light"
     },
     "output_type": "display_data"
    }
   ],
   "source": [
    "# plot one sample outcome from the simulation with h=8\n",
    "bipolarization_lst_high_h[5].plot()"
   ]
  },
  {
   "cell_type": "code",
   "execution_count": 278,
   "id": "3ce1f18c-6a7b-455e-8860-0ddce2fcf259",
   "metadata": {},
   "outputs": [
    {
     "data": {
      "text/plain": [
       "<AxesSubplot:>"
      ]
     },
     "execution_count": 278,
     "metadata": {},
     "output_type": "execute_result"
    },
    {
     "data": {
      "image/png": "[encoded data removed]",
      "text/plain": [
       "<Figure size 432x288 with 1 Axes>"
      ]
     },
     "metadata": {
      "needs_background": "light"
     },
     "output_type": "display_data"
    }
   ],
   "source": [
    "# plot one sample outcome from the simulation with h=0\n",
    "bipolarization_lst_low_h[5].plot()"
   ]
  },
  {
   "cell_type": "code",
   "execution_count": 269,
   "id": "4f5bf703-4acc-444d-bf81-0ca40d13fd0a",
   "metadata": {},
   "outputs": [],
   "source": [
    "# take average value of bipolarization at each event t across the 100 repetitions\n",
    "bipolarization_high_h_avg = [sum(x)/len(x) for x in zip(*bipolarization_lst_high_h)]"
   ]
  },
  {
   "cell_type": "code",
   "execution_count": 270,
   "id": "86f8f5d8-0834-4c4e-96ee-553e64426089",
   "metadata": {},
   "outputs": [
    {
     "data": {
      "text/plain": [
       "[<matplotlib.lines.Line2D at 0x25e36325730>]"
      ]
     },
     "execution_count": 270,
     "metadata": {},
     "output_type": "execute_result"
    },
    {
     "data": {
      "image/png": "[encoded data removed]",
      "text/plain": [
       "<Figure size 432x288 with 1 Axes>"
      ]
     },
     "metadata": {
      "needs_background": "light"
     },
     "output_type": "display_data"
    }
   ],
   "source": [
    "# plot the average result\n",
    "plt.plot(bipolarization_high_h_avg)"
   ]
  },
  {
   "cell_type": "code",
   "execution_count": 265,
   "id": "0246dd23-c360-4ac3-b2a5-48de0c050c9f",
   "metadata": {},
   "outputs": [
    {
     "data": {
      "text/plain": [
       "[<matplotlib.lines.Line2D at 0x25db37f6d90>]"
      ]
     },
     "execution_count": 265,
     "metadata": {},
     "output_type": "execute_result"
    },
    {
     "data": {
      "image/png": "[encoded data removed]",
      "text/plain": [
       "<Figure size 432x288 with 1 Axes>"
      ]
     },
     "metadata": {
      "needs_background": "light"
     },
     "output_type": "display_data"
    }
   ],
   "source": [
    "# now do the same for h = 0\n",
    "bipolarization_low_h_avg = [sum(x)/len(x) for x in zip(*bipolarization_lst_low_h)]\n",
    "plt.plot(bipolarization_low_h_avg)"
   ]
  },
  {
   "cell_type": "code",
   "execution_count": 279,
   "id": "f8b9a951-d23f-4359-ba21-09f8baa0168b",
   "metadata": {},
   "outputs": [],
   "source": [
    "# count number of group splits (we define those as bipolarization >= 0.8) for both simulations\n",
    "bip_end_high_h = []\n",
    "\n",
    "for bip in bipolarization_lst_high_h:\n",
    "    bip_end_high_h.append(bip[29999])\n",
    "\n",
    "bip_end_low_h = [] \n",
    "for bip in bipolarization_lst_low_h:\n",
    "    bip_end_low_h.append(bip[29999])\n",
    "\n",
    "count_splits = 0\n",
    "for i, value in enumerate(bip_end_high_h):\n",
    "    if value >= 0.8:\n",
    "        count_splits+=1\n",
    "        idx = i\n",
    "split_ratio_high_h = count_splits/len(bip_end_high_h)\n",
    "\n",
    "count_splits = 0\n",
    "for value in bip_end_low_h:\n",
    "    if value >= 0.8:\n",
    "        count_splits+=1\n",
    "split_ratio_low_h = count_splits/len(bip_end_low_h)"
   ]
  },
  {
   "cell_type": "code",
   "execution_count": 280,
   "id": "3059a2b4-9093-4e0d-945e-f7814161ffc8",
   "metadata": {},
   "outputs": [
    {
     "name": "stdout",
     "output_type": "stream",
     "text": [
      "Share of group splits with high homophily: 0.65 , Share of group splits with low homophily: 0.0\n"
     ]
    }
   ],
   "source": [
    "print(\"Share of group splits with high homophily: \" + str(split_ratio_high_h) + \n",
    "      \" , Share of group splits with low homophily: \" + str(split_ratio_low_h))"
   ]
  },
  {
   "cell_type": "code",
   "execution_count": null,
   "id": "c5115aad-d82c-49da-b2fd-4cc8b7d7f443",
   "metadata": {},
   "outputs": [],
   "source": []
  }
 ],
 "metadata": {
  "kernelspec": {
   "display_name": "Python 3 (ipykernel)",
   "language": "python",
   "name": "python3"
  },
  "language_info": {
   "codemirror_mode": {
    "name": "ipython",
    "version": 3
   },
   "file_extension": ".py",
   "mimetype": "text/x-python",
   "name": "python",
   "nbconvert_exporter": "python",
   "pygments_lexer": "ipython3",
   "version": "3.9.12"
  }
 },
 "nbformat": 4,
 "nbformat_minor": 5
}
