{
 "cells": [
  {
   "cell_type": "markdown",
   "id": "157da115",
   "metadata": {
    "papermill": {
     "duration": 0.005577,
     "end_time": "2023-02-05T08:23:22.576771",
     "exception": false,
     "start_time": "2023-02-05T08:23:22.571194",
     "status": "completed"
    },
    "tags": []
   },
   "source": [
    "# Agent-Based Model replication\n",
    "Coding bi-polarization model from Mäs & Flache (2013)"
   ]
  },
  {
   "cell_type": "code",
   "execution_count": 1,
   "id": "a6a3b3dc",
   "metadata": {
    "collapsed": true,
    "execution": {
     "iopub.execute_input": "2023-02-05T08:23:22.587275Z",
     "iopub.status.busy": "2023-02-05T08:23:22.586854Z",
     "iopub.status.idle": "2023-02-05T08:23:35.439194Z",
     "shell.execute_reply": "2023-02-05T08:23:35.438018Z"
    },
    "jupyter": {
     "outputs_hidden": true
    },
    "papermill": {
     "duration": 12.860517,
     "end_time": "2023-02-05T08:23:35.441859",
     "exception": false,
     "start_time": "2023-02-05T08:23:22.581342",
     "status": "completed"
    },
    "tags": []
   },
   "outputs": [
    {
     "name": "stdout",
     "output_type": "stream",
     "text": [
      "Collecting mesa\r\n",
      "  Downloading Mesa-1.1.0-py3-none-any.whl (1.8 MB)\r\n",
      "\u001b[2K     \u001b[90m━━━━━━━━━━━━━━━━━━━━━━━━━━━━━━━━━━━━━━━━\u001b[0m \u001b[32m1.8/1.8 MB\u001b[0m \u001b[31m12.1 MB/s\u001b[0m eta \u001b[36m0:00:00\u001b[0m\r\n",
      "\u001b[?25hRequirement already satisfied: networkx in /opt/conda/lib/python3.7/site-packages (from mesa) (2.5)\r\n",
      "Requirement already satisfied: numpy in /opt/conda/lib/python3.7/site-packages (from mesa) (1.21.6)\r\n",
      "Requirement already satisfied: tqdm in /opt/conda/lib/python3.7/site-packages (from mesa) (4.64.0)\r\n",
      "Requirement already satisfied: pandas in /opt/conda/lib/python3.7/site-packages (from mesa) (1.3.5)\r\n",
      "Requirement already satisfied: cookiecutter in /opt/conda/lib/python3.7/site-packages (from mesa) (2.1.1)\r\n",
      "Requirement already satisfied: click in /opt/conda/lib/python3.7/site-packages (from mesa) (8.1.3)\r\n",
      "Requirement already satisfied: tornado in /opt/conda/lib/python3.7/site-packages (from mesa) (6.1)\r\n",
      "Requirement already satisfied: importlib-metadata in /opt/conda/lib/python3.7/site-packages (from click->mesa) (6.0.0)\r\n",
      "Requirement already satisfied: Jinja2<4.0.0,>=2.7 in /opt/conda/lib/python3.7/site-packages (from cookiecutter->mesa) (3.1.2)\r\n",
      "Requirement already satisfied: jinja2-time>=0.2.0 in /opt/conda/lib/python3.7/site-packages (from cookiecutter->mesa) (0.2.0)\r\n",
      "Requirement already satisfied: requests>=2.23.0 in /opt/conda/lib/python3.7/site-packages (from cookiecutter->mesa) (2.28.1)\r\n",
      "Requirement already satisfied: pyyaml>=5.3.1 in /opt/conda/lib/python3.7/site-packages (from cookiecutter->mesa) (6.0)\r\n",
      "Requirement already satisfied: python-slugify>=4.0.0 in /opt/conda/lib/python3.7/site-packages (from cookiecutter->mesa) (6.1.2)\r\n",
      "Requirement already satisfied: binaryornot>=0.4.4 in /opt/conda/lib/python3.7/site-packages (from cookiecutter->mesa) (0.4.4)\r\n",
      "Requirement already satisfied: decorator>=4.3.0 in /opt/conda/lib/python3.7/site-packages (from networkx->mesa) (5.1.1)\r\n",
      "Requirement already satisfied: python-dateutil>=2.7.3 in /opt/conda/lib/python3.7/site-packages (from pandas->mesa) (2.8.2)\r\n",
      "Requirement already satisfied: pytz>=2017.3 in /opt/conda/lib/python3.7/site-packages (from pandas->mesa) (2022.1)\r\n",
      "Requirement already satisfied: chardet>=3.0.2 in /opt/conda/lib/python3.7/site-packages (from binaryornot>=0.4.4->cookiecutter->mesa) (5.0.0)\r\n",
      "Requirement already satisfied: MarkupSafe>=2.0 in /opt/conda/lib/python3.7/site-packages (from Jinja2<4.0.0,>=2.7->cookiecutter->mesa) (2.1.2)\r\n",
      "Requirement already satisfied: arrow in /opt/conda/lib/python3.7/site-packages (from jinja2-time>=0.2.0->cookiecutter->mesa) (1.2.2)\r\n",
      "Requirement already satisfied: six>=1.5 in /opt/conda/lib/python3.7/site-packages (from python-dateutil>=2.7.3->pandas->mesa) (1.15.0)\r\n",
      "Requirement already satisfied: text-unidecode>=1.3 in /opt/conda/lib/python3.7/site-packages (from python-slugify>=4.0.0->cookiecutter->mesa) (1.3)\r\n",
      "Requirement already satisfied: certifi>=2017.4.17 in /opt/conda/lib/python3.7/site-packages (from requests>=2.23.0->cookiecutter->mesa) (2022.12.7)\r\n",
      "Requirement already satisfied: charset-normalizer<3,>=2 in /opt/conda/lib/python3.7/site-packages (from requests>=2.23.0->cookiecutter->mesa) (2.1.0)\r\n",
      "Requirement already satisfied: urllib3<1.27,>=1.21.1 in /opt/conda/lib/python3.7/site-packages (from requests>=2.23.0->cookiecutter->mesa) (1.26.14)\r\n",
      "Requirement already satisfied: idna<4,>=2.5 in /opt/conda/lib/python3.7/site-packages (from requests>=2.23.0->cookiecutter->mesa) (3.3)\r\n",
      "Requirement already satisfied: typing-extensions>=3.6.4 in /opt/conda/lib/python3.7/site-packages (from importlib-metadata->click->mesa) (4.1.1)\r\n",
      "Requirement already satisfied: zipp>=0.5 in /opt/conda/lib/python3.7/site-packages (from importlib-metadata->click->mesa) (3.8.0)\r\n",
      "Installing collected packages: mesa\r\n",
      "Successfully installed mesa-1.1.0\r\n",
      "\u001b[33mWARNING: Running pip as the 'root' user can result in broken permissions and conflicting behaviour with the system package manager. It is recommended to use a virtual environment instead: https://pip.pypa.io/warnings/venv\u001b[0m\u001b[33m\r\n",
      "\u001b[0m"
     ]
    }
   ],
   "source": [
    "!pip install mesa"
   ]
  },
  {
   "cell_type": "code",
   "execution_count": 2,
   "id": "d4345736",
   "metadata": {
    "execution": {
     "iopub.execute_input": "2023-02-05T08:23:35.454492Z",
     "iopub.status.busy": "2023-02-05T08:23:35.454115Z",
     "iopub.status.idle": "2023-02-05T08:23:35.512190Z",
     "shell.execute_reply": "2023-02-05T08:23:35.511277Z"
    },
    "papermill": {
     "duration": 0.066848,
     "end_time": "2023-02-05T08:23:35.514482",
     "exception": false,
     "start_time": "2023-02-05T08:23:35.447634",
     "status": "completed"
    },
    "tags": []
   },
   "outputs": [],
   "source": [
    "import mesa\n",
    "import pandas as pd\n",
    "import random\n",
    "import statistics\n",
    "from matplotlib import pyplot as plt\n",
    "import numpy as np\n",
    "import csv"
   ]
  },
  {
   "cell_type": "markdown",
   "id": "aa753050",
   "metadata": {
    "papermill": {
     "duration": 0.004958,
     "end_time": "2023-02-05T08:23:35.525501",
     "exception": false,
     "start_time": "2023-02-05T08:23:35.520543",
     "status": "completed"
    },
    "tags": []
   },
   "source": [
    "ABM Code"
   ]
  },
  {
   "cell_type": "markdown",
   "id": "f8a2fc3f",
   "metadata": {
    "papermill": {
     "duration": 0.004781,
     "end_time": "2023-02-05T08:23:35.535193",
     "exception": false,
     "start_time": "2023-02-05T08:23:35.530412",
     "status": "completed"
    },
    "tags": []
   },
   "source": [
    "This model replicates the Mäs and Flache (2013) model on opinion bipolarization. \n",
    "It only chooses one random agent per step, as only one pairwise interaction should take place per timestep t."
   ]
  },
  {
   "cell_type": "markdown",
   "id": "975de8fd",
   "metadata": {
    "papermill": {
     "duration": 0.004974,
     "end_time": "2023-02-05T08:23:35.545223",
     "exception": false,
     "start_time": "2023-02-05T08:23:35.540249",
     "status": "completed"
    },
    "tags": []
   },
   "source": [
    "The model is initiated with a uniform opinion distribution. This model version is used in the paper in section 1.3.4 where a large number of simulations is run and parameter h is changed."
   ]
  },
  {
   "cell_type": "code",
   "execution_count": 3,
   "id": "e166fac1",
   "metadata": {
    "execution": {
     "iopub.execute_input": "2023-02-05T08:23:35.556895Z",
     "iopub.status.busy": "2023-02-05T08:23:35.556615Z",
     "iopub.status.idle": "2023-02-05T08:23:35.581125Z",
     "shell.execute_reply": "2023-02-05T08:23:35.580192Z"
    },
    "papermill": {
     "duration": 0.032764,
     "end_time": "2023-02-05T08:23:35.583174",
     "exception": false,
     "start_time": "2023-02-05T08:23:35.550410",
     "status": "completed"
    },
    "tags": []
   },
   "outputs": [],
   "source": [
    "def compute_bipol(model):\n",
    "    N = model.num_agents\n",
    "    agent_opinions = [agent.opinion for agent in model.schedule.agents]\n",
    "    \n",
    "    std_opinion = statistics.stdev(agent_opinions)\n",
    "    return std_opinion\n",
    "\n",
    "def getOpinions(model):\n",
    "    agent_opinions = [agent.opinion for agent in model.schedule.agents]\n",
    "    return agent_opinions\n",
    "    \n",
    "class OpinionAgent(mesa.Agent):\n",
    "    \"\"\"An agent with S arguments, an opinion and two interaction processes.\"\"\"\n",
    "\n",
    "    def __init__(self, unique_id, model):\n",
    "        super().__init__(unique_id, model)\n",
    "        arg_array_pro = [] # create argument vector with all P and C elements and their value of +1 and -1 \n",
    "        arg_array_con = []\n",
    "        for i in range(1,model.proarg+1):\n",
    "            arg_array_pro.append([i,1])\n",
    "            arg_array_con.append([i+model.proarg,-1])\n",
    "        # shuffle each array, we will make random draws from these later, based on the opinion value selected\n",
    "        arg_array_pro = random.sample(arg_array_pro, len(arg_array_pro))\n",
    "        arg_array_con = random.sample(arg_array_con, len(arg_array_con))\n",
    "        # we have S+1 possible opinions to draw from\n",
    "        # to ensure uniform distribution of opinions at the start, we make random draws from this list\n",
    "        S_plus1_lst = list(range(model.relevantArgs+1))   \n",
    "        \n",
    "        # make random draw from this list\n",
    "        random_op_val = random.choice(S_plus1_lst)\n",
    "        # make random draws from pro and con argument vectors based on this number\n",
    "        # e.g., if we drew 0, we draw 0 random pro arguments and S random con arguments; and so on.\n",
    "        opinion_vector_pro = random.sample(arg_array_pro, random_op_val)\n",
    "        opinion_vector_con = random.sample(arg_array_con, (model.relevantArgs-random_op_val))  \n",
    "        opinion_vector = opinion_vector_pro + opinion_vector_con\n",
    "        \n",
    "        opinion_values_vector = [arg[1] for arg in opinion_vector]\n",
    "        opinion = (sum(opinion_values_vector))/model.relevantArgs # this is the agent's opinion o(i,t) that is between -1 and 1\n",
    "\n",
    "        for i in range(len(opinion_vector)):\n",
    "            opinion_vector[i].append(i+1)  # add the recency variable; we initialize this with values 1 through S\n",
    "        self.opinion = opinion\n",
    "        self.opinion_vector = opinion_vector\n",
    "        \n",
    "    def interaction(self, model): # first part of interaction is partner selection phase\n",
    "     \n",
    "        # first stage is partner selection\n",
    "        sim_lst = [] # list of relative similarity of chosen agent i with each of the other agents created\n",
    "        agent_lst = [agent for agent in model.schedule.agents if agent != self]\n",
    "        for i, agent in enumerate(agent_lst):\n",
    "            sim_ij = 0.5*(2-abs(self.opinion - agent.opinion))\n",
    "            sim_lst.append(sim_ij)\n",
    "                  \n",
    "        p_lst = []\n",
    "        sum_p = sum([(sim**model.homophily) for sim in sim_lst])\n",
    "        for i, sim in enumerate(sim_lst):\n",
    "            p = (sim**model.homophily) / sum_p\n",
    "            p_lst.append(p)\n",
    "        \n",
    "        agent_j = random.choices(agent_lst, weights=p_lst, k=1)[0] # pick random interaction partner with weights equivalent to the probabilities based on homophily\n",
    "        # make sure we don't choose the same agent for the interaction\n",
    "        same_agent = False\n",
    "        if agent_j == self:\n",
    "            same_agent = True\n",
    "            while same_agent == True:\n",
    "                agent_j = random.choices(model.schedule.agents, weights=p_lst, k=1)[0]\n",
    "                if agent_j == self:\n",
    "                    same_agent = True\n",
    "                else:\n",
    "                    same_agent = False\n",
    "        \n",
    "        \n",
    "        # second stage is interaction\n",
    "        chosen_arg = self.random.choice(agent_j.opinion_vector) # the first value is the argument (either -1 or +1), while the second value indicates recency of arg for agent j, which is not interesting at this point\n",
    "        \n",
    "        # before we add this argument to agent i's argument vector, need to check if agent i already knows this argument\n",
    "        knows_arg = False\n",
    "        for i in range(len(self.opinion_vector)):\n",
    "            if self.opinion_vector[i][0] == chosen_arg[0]:\n",
    "                knows_arg = True\n",
    "                idx_arg = i\n",
    "            else:\n",
    "                pass\n",
    "            \n",
    "        # now append if agent i does not know this argument\n",
    "        if knows_arg == False:\n",
    "            chosen_arg[2] = model.relevantArgs+1\n",
    "            self.opinion_vector.append(chosen_arg) # append new argument with recency of S+1 to opinion vector of agent i\n",
    "            for i in range(len(self.opinion_vector)):\n",
    "                self.opinion_vector[i][2] = (self.opinion_vector[i][2])-1 # reduce recency of each argument by 1\n",
    "            self.opinion_vector.pop(0)\n",
    "        \n",
    "        # only update recency of arguments if agent i already knows the argument\n",
    "        if knows_arg == True:\n",
    "            arg_recency = self.opinion_vector[idx_arg][2]  \n",
    "            self.opinion_vector.pop(idx_arg)\n",
    "            chosen_arg[2] = model.relevantArgs+1\n",
    "            \n",
    "            self.opinion_vector.append(chosen_arg)            \n",
    "            for i in range(len(self.opinion_vector)): # now reduce recency of every argument with recency larger than communicated arg's recency\n",
    "                if self.opinion_vector[i][2] > arg_recency:\n",
    "                    self.opinion_vector[i][2] = (self.opinion_vector[i][2])-1\n",
    "        \n",
    "        # after updating agent i's opinion vector, we are updating their opinion\n",
    "        self.opinion_values_vector = [arg[1] for arg in self.opinion_vector]\n",
    "       \n",
    "        self.opinion = (sum(self.opinion_values_vector))/model.relevantArgs\n",
    "       \n",
    "    \n",
    "class OpinionModel(mesa.Model):\n",
    "    \"\"\"A model with some number of agents.\"\"\"\n",
    "\n",
    "    def __init__(self, N, h, P, C, r):\n",
    "        self.num_agents = N\n",
    "        self.schedule = mesa.time.RandomActivation(self)\n",
    "        self.homophily = h # specify parameter h, indicating level of homophily\n",
    "        self.proarg = P # number of Pro arguments\n",
    "        self.conarg = C # number of Con arguments\n",
    "        self.relevantArgs = r\n",
    "        self.running = True\n",
    "\n",
    "        # Create agents\n",
    "        self.agent_lst = []\n",
    "        \n",
    "        for i in range(self.num_agents):\n",
    "            a = OpinionAgent(i, self)\n",
    "            self.agent_lst.append(a)\n",
    "            self.schedule.add(a)\n",
    "        self.datacollector = mesa.DataCollector(\n",
    "            model_reporters={\"Bipolarization\": compute_bipol, \"Opinions\": getOpinions} #agent_reporters={\"Opinion\": \"opinion\"} )\n",
    "        )\n",
    "    def step(self):\n",
    "        chosen_agent = random.choice(self.agent_lst)\n",
    "        # after inspecting intermediate steps in the model, it seems that after this step.\n",
    "        # for some reason, the recency values get messed up, so we fix them again here\n",
    "        for i, arg in enumerate(chosen_agent.opinion_vector):\n",
    "            if arg[2] != i+1:\n",
    "                arg[2] = i+1\n",
    "        chosen_agent.interaction(self)\n",
    "        self.datacollector.collect(self)"
   ]
  },
  {
   "cell_type": "markdown",
   "id": "0e688a01",
   "metadata": {
    "papermill": {
     "duration": 0.005225,
     "end_time": "2023-02-05T08:23:35.593631",
     "exception": false,
     "start_time": "2023-02-05T08:23:35.588406",
     "status": "completed"
    },
    "tags": []
   },
   "source": [
    "The following code represents the replication of the paper's section 1.3.4, where the effect of homophily is analysed by only varying h and holding everything else constant. The effect is analysed in terms of share of group splits, maximum degree of bipolarization and number of timesteps needed to achieve a perfect group split."
   ]
  },
  {
   "cell_type": "code",
   "execution_count": 4,
   "id": "bf7ebe86",
   "metadata": {
    "execution": {
     "iopub.execute_input": "2023-02-05T08:23:35.605971Z",
     "iopub.status.busy": "2023-02-05T08:23:35.605161Z",
     "iopub.status.idle": "2023-02-05T08:23:35.611237Z",
     "shell.execute_reply": "2023-02-05T08:23:35.610413Z"
    },
    "papermill": {
     "duration": 0.014273,
     "end_time": "2023-02-05T08:23:35.613196",
     "exception": false,
     "start_time": "2023-02-05T08:23:35.598923",
     "status": "completed"
    },
    "tags": []
   },
   "outputs": [],
   "source": [
    "# Run model\n",
    "def run_model_h(homophily):\n",
    "    bipolarization_lst = []\n",
    "    opinions_lst = []\n",
    "    for i in range(100):\n",
    "        model = OpinionModel(N = 20, h = homophily, P = 20, C= 20, r = 6)\n",
    "        for k in range(30000):\n",
    "            model.step()\n",
    "        bipolarization = model.datacollector.get_model_vars_dataframe()[\"Bipolarization\"]\n",
    "        opinions = model.datacollector.get_model_vars_dataframe()[\"Opinions\"]\n",
    "        bipolarization_lst.append(bipolarization)\n",
    "        opinions_lst.append(opinions)\n",
    "    return [bipolarization_lst, opinions_lst]\n"
   ]
  },
  {
   "cell_type": "code",
   "execution_count": 5,
   "id": "c80bee09",
   "metadata": {
    "execution": {
     "iopub.execute_input": "2023-02-05T08:23:35.624645Z",
     "iopub.status.busy": "2023-02-05T08:23:35.624325Z",
     "iopub.status.idle": "2023-02-05T09:40:39.627435Z",
     "shell.execute_reply": "2023-02-05T09:40:39.626408Z"
    },
    "papermill": {
     "duration": 4624.011998,
     "end_time": "2023-02-05T09:40:39.630256",
     "exception": false,
     "start_time": "2023-02-05T08:23:35.618258",
     "status": "completed"
    },
    "tags": []
   },
   "outputs": [],
   "source": [
    "dict_bip = {}\n",
    "dict_opinions = {}\n",
    "for j in range(9):\n",
    "    results = run_model_h(j)\n",
    "    dict_bip[j] = results[0]\n",
    "    dict_opinions[j] = results[1]"
   ]
  },
  {
   "cell_type": "code",
   "execution_count": 6,
   "id": "cbb79c83",
   "metadata": {
    "execution": {
     "iopub.execute_input": "2023-02-05T09:40:39.642621Z",
     "iopub.status.busy": "2023-02-05T09:40:39.642309Z",
     "iopub.status.idle": "2023-02-05T09:40:39.648585Z",
     "shell.execute_reply": "2023-02-05T09:40:39.647554Z"
    },
    "papermill": {
     "duration": 0.014983,
     "end_time": "2023-02-05T09:40:39.650887",
     "exception": false,
     "start_time": "2023-02-05T09:40:39.635904",
     "status": "completed"
    },
    "tags": []
   },
   "outputs": [],
   "source": [
    "# get proportion of group splits\n",
    "def share_group_splits(opinions_lst):\n",
    "    final_opinions = []\n",
    "    for opinions in opinions_lst:\n",
    "        \n",
    "        final_opinions.append(opinions[29999])\n",
    "    \n",
    "\n",
    "    group_splits = []\n",
    "    for final_op_lst in final_opinions:\n",
    "        if (-1.0 in final_op_lst and 1.0 in final_op_lst):\n",
    "            group_splits.append(1)\n",
    "        else:\n",
    "            group_splits.append(0)\n",
    "\n",
    "    share_group_split = sum(group_splits)/len(group_splits)\n",
    "    return [share_group_split, group_splits]"
   ]
  },
  {
   "cell_type": "code",
   "execution_count": 7,
   "id": "475e6d63",
   "metadata": {
    "execution": {
     "iopub.execute_input": "2023-02-05T09:40:39.662539Z",
     "iopub.status.busy": "2023-02-05T09:40:39.661969Z",
     "iopub.status.idle": "2023-02-05T09:40:39.674096Z",
     "shell.execute_reply": "2023-02-05T09:40:39.673282Z"
    },
    "papermill": {
     "duration": 0.020302,
     "end_time": "2023-02-05T09:40:39.676169",
     "exception": false,
     "start_time": "2023-02-05T09:40:39.655867",
     "status": "completed"
    },
    "tags": []
   },
   "outputs": [],
   "source": [
    "share_group_splits_dict = {}\n",
    "group_splits_lst = []\n",
    "for key,value in dict_opinions.items():\n",
    "    \n",
    "    group_splits = share_group_splits(opinions_lst = value)\n",
    "    share_group_splits_dict[key] = group_splits[0]\n",
    "    group_splits_lst.append(group_splits[1])"
   ]
  },
  {
   "cell_type": "code",
   "execution_count": 8,
   "id": "f87bb2e3",
   "metadata": {
    "execution": {
     "iopub.execute_input": "2023-02-05T09:40:39.687333Z",
     "iopub.status.busy": "2023-02-05T09:40:39.687069Z",
     "iopub.status.idle": "2023-02-05T09:40:39.693720Z",
     "shell.execute_reply": "2023-02-05T09:40:39.692721Z"
    },
    "papermill": {
     "duration": 0.014691,
     "end_time": "2023-02-05T09:40:39.696004",
     "exception": false,
     "start_time": "2023-02-05T09:40:39.681313",
     "status": "completed"
    },
    "tags": []
   },
   "outputs": [],
   "source": [
    "# get number of timesteps needed to achieve perfect group split\n",
    "def get_timesteps(opinions_lst, group_splits):\n",
    "    time_of_split_lst = []\n",
    "    for i, opinions in enumerate(opinions_lst):\n",
    "        if group_splits[i] == 1: # if 1, then we have a group split; we only consider these cases\n",
    "            for idx, j in enumerate(opinions):\n",
    "                perfect_split = []\n",
    "                for opinion in j:\n",
    "                    if opinion == 1.0 or opinion == -1.0:\n",
    "                        perfect_split.append(True)\n",
    "                    else:\n",
    "                        perfect_split.append(False)\n",
    "                if False not in perfect_split:\n",
    "                    \n",
    "                    time_of_split_lst.append(idx)\n",
    "                    break\n",
    "    try:\n",
    "        avg_time_of_split = sum(time_of_split_lst)/len(time_of_split_lst)\n",
    "    except:\n",
    "        avg_time_of_split = 0\n",
    "    return avg_time_of_split "
   ]
  },
  {
   "cell_type": "code",
   "execution_count": 9,
   "id": "657e67fe",
   "metadata": {
    "execution": {
     "iopub.execute_input": "2023-02-05T09:40:39.707962Z",
     "iopub.status.busy": "2023-02-05T09:40:39.707112Z",
     "iopub.status.idle": "2023-02-05T09:40:41.083415Z",
     "shell.execute_reply": "2023-02-05T09:40:41.082523Z"
    },
    "papermill": {
     "duration": 1.384618,
     "end_time": "2023-02-05T09:40:41.085903",
     "exception": false,
     "start_time": "2023-02-05T09:40:39.701285",
     "status": "completed"
    },
    "tags": []
   },
   "outputs": [],
   "source": [
    "avg_time_of_split = {}\n",
    "i = 0\n",
    "for key, value in dict_opinions.items():\n",
    "    timesteps = get_timesteps(value, group_splits_lst[i])\n",
    "    avg_time_of_split[key] = timesteps\n",
    "    i+=1"
   ]
  },
  {
   "cell_type": "code",
   "execution_count": 10,
   "id": "70b0aca3",
   "metadata": {
    "execution": {
     "iopub.execute_input": "2023-02-05T09:40:41.097498Z",
     "iopub.status.busy": "2023-02-05T09:40:41.097167Z",
     "iopub.status.idle": "2023-02-05T09:40:41.103157Z",
     "shell.execute_reply": "2023-02-05T09:40:41.102130Z"
    },
    "papermill": {
     "duration": 0.014195,
     "end_time": "2023-02-05T09:40:41.105349",
     "exception": false,
     "start_time": "2023-02-05T09:40:41.091154",
     "status": "completed"
    },
    "tags": []
   },
   "outputs": [],
   "source": [
    "# intensity of bipolarization for each value of h\n",
    "def get_bip_intensity(bipolarization_lst):\n",
    "    max_bip_lst = []\n",
    "    initial_bip_lst = []\n",
    "    for simulation in bipolarization_lst:\n",
    "        max_bip = max(simulation)\n",
    "        max_bip_lst.append(max_bip)\n",
    "        initial_bip_lst.append(simulation[0])\n",
    "    \n",
    "    max_avg_bip = sum(max_bip_lst)/len(max_bip_lst)\n",
    "    initial_avg_bip = sum(initial_bip_lst)/len(initial_bip_lst)\n",
    "    return [max_avg_bip, initial_avg_bip]"
   ]
  },
  {
   "cell_type": "code",
   "execution_count": 11,
   "id": "7294e90e",
   "metadata": {
    "execution": {
     "iopub.execute_input": "2023-02-05T09:40:41.116688Z",
     "iopub.status.busy": "2023-02-05T09:40:41.116422Z",
     "iopub.status.idle": "2023-02-05T09:40:43.213320Z",
     "shell.execute_reply": "2023-02-05T09:40:43.212204Z"
    },
    "papermill": {
     "duration": 2.10575,
     "end_time": "2023-02-05T09:40:43.216167",
     "exception": false,
     "start_time": "2023-02-05T09:40:41.110417",
     "status": "completed"
    },
    "tags": []
   },
   "outputs": [],
   "source": [
    "bip_intensity = {}\n",
    "for key, value in dict_bip.items():\n",
    "    bip_intensity_val = get_bip_intensity(value)\n",
    "    bip_intensity[key] = bip_intensity_val"
   ]
  },
  {
   "cell_type": "code",
   "execution_count": 12,
   "id": "13e8d846",
   "metadata": {
    "execution": {
     "iopub.execute_input": "2023-02-05T09:40:43.229245Z",
     "iopub.status.busy": "2023-02-05T09:40:43.228907Z",
     "iopub.status.idle": "2023-02-05T09:40:43.487394Z",
     "shell.execute_reply": "2023-02-05T09:40:43.486529Z"
    },
    "papermill": {
     "duration": 0.267685,
     "end_time": "2023-02-05T09:40:43.490095",
     "exception": false,
     "start_time": "2023-02-05T09:40:43.222410",
     "status": "completed"
    },
    "tags": []
   },
   "outputs": [
    {
     "data": {
      "image/png": "[encoded data removed]",
      "text/plain": [
       "<Figure size 432x288 with 1 Axes>"
      ]
     },
     "metadata": {
      "needs_background": "light"
     },
     "output_type": "display_data"
    }
   ],
   "source": [
    "# vizualize share of group splits\n",
    "\n",
    "names = list(share_group_splits_dict.keys())\n",
    "values = list(share_group_splits_dict.values())\n",
    "\n",
    "plt.bar(range(len(share_group_splits_dict)), values, tick_label=names)\n",
    "plt.ylabel('Share of runs resulting in group split')\n",
    "plt.xlabel('Value of homophily')\n",
    "plt.title('Share of runs resulting in perfect group split for each value of homophily')\n",
    "\n",
    "plt.show()"
   ]
  },
  {
   "cell_type": "code",
   "execution_count": 13,
   "id": "0a7e3f4c",
   "metadata": {
    "execution": {
     "iopub.execute_input": "2023-02-05T09:40:43.512527Z",
     "iopub.status.busy": "2023-02-05T09:40:43.512065Z",
     "iopub.status.idle": "2023-02-05T09:40:43.812457Z",
     "shell.execute_reply": "2023-02-05T09:40:43.811569Z"
    },
    "papermill": {
     "duration": 0.314258,
     "end_time": "2023-02-05T09:40:43.814452",
     "exception": false,
     "start_time": "2023-02-05T09:40:43.500194",
     "status": "completed"
    },
    "tags": []
   },
   "outputs": [
    {
     "data": {
      "image/png": "[encoded data removed]",
      "text/plain": [
       "<Figure size 432x288 with 1 Axes>"
      ]
     },
     "metadata": {
      "needs_background": "light"
     },
     "output_type": "display_data"
    }
   ],
   "source": [
    "# visualize degree of bipolarization\n",
    "\n",
    "N = 9\n",
    "ind = np.arange(N)    # the x locations for the groups\n",
    "\n",
    "bip_int_lst = list(bip_intensity.values())\n",
    "values_start_bip = [bip[1] for bip in bip_int_lst]\n",
    "values_max_bip = [bip[0] for bip in bip_int_lst]\n",
    "\n",
    "p1 = plt.bar(ind, values_start_bip)\n",
    "p2 = plt.bar(ind, values_max_bip,\n",
    "             bottom=values_start_bip)\n",
    "\n",
    "names = list(bip_intensity.keys())\n",
    "plt.ylabel('Degree of bipolarization (bottom: starting bip value, top: max bip value)')\n",
    "plt.xlabel('Value of homophily')\n",
    "plt.title('Degree of bipolarization for each value of homophily')\n",
    "\n",
    "plt.xticks(ind, names)\n",
    "\n",
    "\n",
    "plt.show()"
   ]
  },
  {
   "cell_type": "code",
   "execution_count": 14,
   "id": "6dae47c7",
   "metadata": {
    "execution": {
     "iopub.execute_input": "2023-02-05T09:40:43.833575Z",
     "iopub.status.busy": "2023-02-05T09:40:43.832934Z",
     "iopub.status.idle": "2023-02-05T09:40:44.063462Z",
     "shell.execute_reply": "2023-02-05T09:40:44.062553Z"
    },
    "papermill": {
     "duration": 0.242586,
     "end_time": "2023-02-05T09:40:44.065675",
     "exception": false,
     "start_time": "2023-02-05T09:40:43.823089",
     "status": "completed"
    },
    "tags": []
   },
   "outputs": [
    {
     "data": {
      "image/png": "[encoded data removed]",
      "text/plain": [
       "<Figure size 432x288 with 1 Axes>"
      ]
     },
     "metadata": {
      "needs_background": "light"
     },
     "output_type": "display_data"
    }
   ],
   "source": [
    "# visualize degree of bipolarization 2\n",
    "\n",
    "names = list(share_group_splits_dict.keys())\n",
    "values = [bip[0] for bip in bip_int_lst]\n",
    "\n",
    "plt.bar(range(len(share_group_splits_dict)), values, tick_label=names)\n",
    "plt.ylabel('Degree of avg maximum bipolarization')\n",
    "plt.xlabel('Value of homophily')\n",
    "plt.title('Average maximum degree of bipolarization for each value of homophily')\n",
    "\n",
    "plt.show()"
   ]
  },
  {
   "cell_type": "code",
   "execution_count": 15,
   "id": "f08b57b0",
   "metadata": {
    "execution": {
     "iopub.execute_input": "2023-02-05T09:40:44.078442Z",
     "iopub.status.busy": "2023-02-05T09:40:44.078130Z",
     "iopub.status.idle": "2023-02-05T09:40:44.277578Z",
     "shell.execute_reply": "2023-02-05T09:40:44.276756Z"
    },
    "papermill": {
     "duration": 0.208149,
     "end_time": "2023-02-05T09:40:44.279682",
     "exception": false,
     "start_time": "2023-02-05T09:40:44.071533",
     "status": "completed"
    },
    "tags": []
   },
   "outputs": [
    {
     "data": {
      "image/png": "[encoded data removed]",
      "text/plain": [
       "<Figure size 432x288 with 1 Axes>"
      ]
     },
     "metadata": {
      "needs_background": "light"
     },
     "output_type": "display_data"
    }
   ],
   "source": [
    "# visualize number of timesteps needed to achieve group split\n",
    "\n",
    "names = list(avg_time_of_split.keys())\n",
    "values = list(avg_time_of_split.values())\n",
    "\n",
    "plt.bar(range(len(avg_time_of_split)), values, tick_label=names)\n",
    "plt.ylabel('Number of timesteps until group split')\n",
    "plt.xlabel('Value of homophily')\n",
    "plt.title('Number of timesteps needed to achieve perfect group split for each value of homophily')\n",
    "\n",
    "plt.show()"
   ]
  },
  {
   "cell_type": "code",
   "execution_count": null,
   "id": "85326bdb",
   "metadata": {
    "papermill": {
     "duration": 0.005967,
     "end_time": "2023-02-05T09:40:44.291692",
     "exception": false,
     "start_time": "2023-02-05T09:40:44.285725",
     "status": "completed"
    },
    "tags": []
   },
   "outputs": [],
   "source": []
  }
 ],
 "metadata": {
  "kernelspec": {
   "display_name": "Python 3",
   "language": "python",
   "name": "python3"
  },
  "language_info": {
   "codemirror_mode": {
    "name": "ipython",
    "version": 3
   },
   "file_extension": ".py",
   "mimetype": "text/x-python",
   "name": "python",
   "nbconvert_exporter": "python",
   "pygments_lexer": "ipython3",
   "version": "3.7.12"
  },
  "papermill": {
   "default_parameters": {},
   "duration": 4655.049636,
   "end_time": "2023-02-05T09:40:47.428766",
   "environment_variables": {},
   "exception": null,
   "input_path": "__notebook__.ipynb",
   "output_path": "__notebook__.ipynb",
   "parameters": {},
   "start_time": "2023-02-05T08:23:12.379130",
   "version": "2.3.4"
  }
 },
 "nbformat": 4,
 "nbformat_minor": 5
}
